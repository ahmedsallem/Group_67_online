{
 "cells": [
  {
   "cell_type": "code",
   "execution_count": 59,
   "id": "b1f5a8e0",
   "metadata": {},
   "outputs": [],
   "source": [
    "lst2 = [11,5,17,18,23,50]\n",
    "d = lst2[1:5]"
   ]
  },
  {
   "cell_type": "code",
   "execution_count": 60,
   "id": "5c8941bc",
   "metadata": {},
   "outputs": [
    {
     "name": "stdout",
     "output_type": "stream",
     "text": [
      "[11, 50]\n"
     ]
    }
   ],
   "source": [
    "for i in d:\n",
    "    if i in lst2:\n",
    "        lst2.remove(i)\n",
    "print(lst2)"
   ]
  },
  {
   "cell_type": "code",
   "execution_count": 62,
   "id": "cde8a42d",
   "metadata": {},
   "outputs": [],
   "source": [
    "class Dogs:\n",
    "    pass"
   ]
  },
  {
   "cell_type": "code",
   "execution_count": 63,
   "id": "0babf853",
   "metadata": {},
   "outputs": [],
   "source": [
    "d1 = Dogs()"
   ]
  },
  {
   "cell_type": "code",
   "execution_count": 64,
   "id": "f9227b9a",
   "metadata": {},
   "outputs": [
    {
     "data": {
      "text/plain": [
       "True"
      ]
     },
     "execution_count": 64,
     "metadata": {},
     "output_type": "execute_result"
    }
   ],
   "source": [
    "isinstance(d1,Dogs)"
   ]
  },
  {
   "cell_type": "code",
   "execution_count": 85,
   "id": "1d082d38",
   "metadata": {},
   "outputs": [],
   "source": [
    "class Dogs:\n",
    "    def __init__(self,name , age):\n",
    "#     instance attribute\n",
    "        self.name = name\n",
    "        self.age  = age \n",
    "#     instance method\n",
    "    def info(self):\n",
    "        print(f\"Dog name is {self.name}\")\n",
    "        print(f\"Dog age is {self.age}\")"
   ]
  },
  {
   "cell_type": "code",
   "execution_count": 86,
   "id": "d273846d",
   "metadata": {},
   "outputs": [],
   "source": [
    "d1 = Dogs(\"jack1\" , 2 )\n",
    "d2 = Dogs(\"jack2\" , 2 )"
   ]
  },
  {
   "cell_type": "code",
   "execution_count": 90,
   "id": "bab4b469",
   "metadata": {},
   "outputs": [
    {
     "data": {
      "text/plain": [
       "'Jack1'"
      ]
     },
     "execution_count": 90,
     "metadata": {},
     "output_type": "execute_result"
    }
   ],
   "source": [
    "d1.name = \"Jack1\"\n",
    "d1.name"
   ]
  },
  {
   "cell_type": "code",
   "execution_count": 88,
   "id": "55db4447",
   "metadata": {},
   "outputs": [
    {
     "data": {
      "text/plain": [
       "'jack2'"
      ]
     },
     "execution_count": 88,
     "metadata": {},
     "output_type": "execute_result"
    }
   ],
   "source": [
    "d2.name"
   ]
  },
  {
   "cell_type": "code",
   "execution_count": 80,
   "id": "8b653213",
   "metadata": {},
   "outputs": [
    {
     "name": "stdout",
     "output_type": "stream",
     "text": [
      "Dog name is Jack1\n",
      "Dog age is 2\n"
     ]
    }
   ],
   "source": [
    "d1.info()"
   ]
  },
  {
   "cell_type": "code",
   "execution_count": 78,
   "id": "1afab69e",
   "metadata": {},
   "outputs": [
    {
     "name": "stdout",
     "output_type": "stream",
     "text": [
      "Dog name is jack2\n",
      "Dog age is 2\n"
     ]
    }
   ],
   "source": [
    "d2.info()"
   ]
  },
  {
   "cell_type": "code",
   "execution_count": null,
   "id": "15a4d83f",
   "metadata": {},
   "outputs": [],
   "source": []
  },
  {
   "cell_type": "code",
   "execution_count": null,
   "id": "20198516",
   "metadata": {},
   "outputs": [],
   "source": []
  },
  {
   "cell_type": "code",
   "execution_count": 91,
   "id": "64c0e30d",
   "metadata": {},
   "outputs": [],
   "source": [
    "class Dogs:\n",
    "    def __init__(self,name , age):\n",
    "#     instance attribute\n",
    "        self.__name = name\n",
    "        self.__age  = age \n",
    "#     instance method\n",
    "    def info(self):\n",
    "        print(f\"Dog name is {self.__name}\")\n",
    "        print(f\"Dog age is {self.__age}\")"
   ]
  },
  {
   "cell_type": "code",
   "execution_count": 92,
   "id": "e5bfc6f2",
   "metadata": {},
   "outputs": [],
   "source": [
    "d1 = Dogs(\"jack1\" , 2 )\n",
    "d2 = Dogs(\"jack2\" , 2 )"
   ]
  },
  {
   "cell_type": "code",
   "execution_count": 106,
   "id": "a967946f",
   "metadata": {},
   "outputs": [
    {
     "name": "stdout",
     "output_type": "stream",
     "text": [
      "Error 'Dogs' object has no attribute '__name'\n"
     ]
    }
   ],
   "source": [
    "try:\n",
    "    d1.__name \n",
    "except Exception as e :\n",
    "    print(\"Error\" , e)"
   ]
  },
  {
   "cell_type": "code",
   "execution_count": 98,
   "id": "3b7cc13e",
   "metadata": {},
   "outputs": [
    {
     "data": {
      "text/plain": [
       "'Hamadaa'"
      ]
     },
     "execution_count": 98,
     "metadata": {},
     "output_type": "execute_result"
    }
   ],
   "source": [
    "d2.name = \"Hamadaa\"\n",
    "d2.name"
   ]
  },
  {
   "cell_type": "code",
   "execution_count": 80,
   "id": "7c5f429c",
   "metadata": {},
   "outputs": [
    {
     "name": "stdout",
     "output_type": "stream",
     "text": [
      "Dog name is Jack1\n",
      "Dog age is 2\n"
     ]
    }
   ],
   "source": [
    "d1.info()"
   ]
  },
  {
   "cell_type": "code",
   "execution_count": 96,
   "id": "38af5b10",
   "metadata": {},
   "outputs": [
    {
     "name": "stdout",
     "output_type": "stream",
     "text": [
      "Dog name is jack2\n",
      "Dog age is 2\n"
     ]
    }
   ],
   "source": [
    "d2.info()"
   ]
  },
  {
   "cell_type": "code",
   "execution_count": 105,
   "id": "fc1e8cae",
   "metadata": {},
   "outputs": [
    {
     "name": "stdout",
     "output_type": "stream",
     "text": [
      "Error 'Dogs' object has no attribute 'name'\n"
     ]
    }
   ],
   "source": [
    "try:\n",
    "    d1.name \n",
    "except Exception as e :\n",
    "    print(\"Error\" , e)"
   ]
  },
  {
   "cell_type": "code",
   "execution_count": 102,
   "id": "c4a68f86",
   "metadata": {},
   "outputs": [],
   "source": [
    "# d1._Dogs__name = \"123\""
   ]
  },
  {
   "cell_type": "code",
   "execution_count": 104,
   "id": "6167ed42",
   "metadata": {},
   "outputs": [],
   "source": [
    "# d1.info()"
   ]
  },
  {
   "cell_type": "code",
   "execution_count": 107,
   "id": "249a21cb",
   "metadata": {},
   "outputs": [],
   "source": [
    "class Cars:\n",
    "    def __init__(self , name, age):\n",
    "        self.name = name\n",
    "        self.age  = age\n",
    "    def show(self):\n",
    "        print(\"Car name is\" , self.name)\n",
    "        print(\"Car age is\", self.age)"
   ]
  },
  {
   "cell_type": "code",
   "execution_count": 108,
   "id": "30b6739e",
   "metadata": {},
   "outputs": [],
   "source": [
    "BMW = Cars(\"BMW\" , 3)"
   ]
  },
  {
   "cell_type": "code",
   "execution_count": 109,
   "id": "cb371563",
   "metadata": {},
   "outputs": [
    {
     "name": "stdout",
     "output_type": "stream",
     "text": [
      "Car name is BMW\n",
      "Car age is 3\n"
     ]
    }
   ],
   "source": [
    "BMW.show()"
   ]
  },
  {
   "cell_type": "code",
   "execution_count": 110,
   "id": "8665037c",
   "metadata": {},
   "outputs": [],
   "source": [
    "class BMW(Cars):\n",
    "    pass"
   ]
  },
  {
   "cell_type": "code",
   "execution_count": 114,
   "id": "78691859",
   "metadata": {},
   "outputs": [],
   "source": [
    "BMW1 = BMW(\"bwm1\" , 5)"
   ]
  },
  {
   "cell_type": "code",
   "execution_count": 115,
   "id": "7f5004fb",
   "metadata": {
    "scrolled": true
   },
   "outputs": [
    {
     "name": "stdout",
     "output_type": "stream",
     "text": [
      "Car name is bwm1\n",
      "Car age is 5\n"
     ]
    }
   ],
   "source": [
    "BMW1.show()"
   ]
  },
  {
   "cell_type": "code",
   "execution_count": 116,
   "id": "7239e1e5",
   "metadata": {},
   "outputs": [],
   "source": [
    "#############################################"
   ]
  },
  {
   "cell_type": "code",
   "execution_count": 117,
   "id": "76332761",
   "metadata": {},
   "outputs": [],
   "source": [
    "#############################################"
   ]
  },
  {
   "cell_type": "code",
   "execution_count": 118,
   "id": "ca5d4b0b",
   "metadata": {},
   "outputs": [],
   "source": [
    "class Cars:\n",
    "    def __init__(self , name, age):\n",
    "        self.name = name\n",
    "        self.age  = age\n",
    "    def show(self):\n",
    "        print(\"Car name is\" , self.name)\n",
    "        print(\"Car age is\", self.age)"
   ]
  },
  {
   "cell_type": "code",
   "execution_count": 119,
   "id": "26d53894",
   "metadata": {},
   "outputs": [],
   "source": [
    "BMW = Cars(\"BMW\" , 3)"
   ]
  },
  {
   "cell_type": "code",
   "execution_count": 120,
   "id": "5fbcaec4",
   "metadata": {},
   "outputs": [
    {
     "name": "stdout",
     "output_type": "stream",
     "text": [
      "Car name is BMW\n",
      "Car age is 3\n"
     ]
    }
   ],
   "source": [
    "BMW.show()"
   ]
  },
  {
   "cell_type": "code",
   "execution_count": 121,
   "id": "09344306",
   "metadata": {},
   "outputs": [],
   "source": [
    "class BMW(Cars):\n",
    "    pass"
   ]
  },
  {
   "cell_type": "code",
   "execution_count": 114,
   "id": "c6f252fb",
   "metadata": {},
   "outputs": [],
   "source": [
    "BMW1 = BMW(\"bwm1\" , 5)"
   ]
  },
  {
   "cell_type": "code",
   "execution_count": 115,
   "id": "ed133332",
   "metadata": {},
   "outputs": [
    {
     "name": "stdout",
     "output_type": "stream",
     "text": [
      "Car name is bwm1\n",
      "Car age is 5\n"
     ]
    }
   ],
   "source": [
    "BMW1.show()"
   ]
  },
  {
   "cell_type": "code",
   "execution_count": null,
   "id": "99cc68ea",
   "metadata": {},
   "outputs": [],
   "source": []
  },
  {
   "cell_type": "code",
   "execution_count": 122,
   "id": "aa9ace05",
   "metadata": {},
   "outputs": [],
   "source": [
    "class Cars:\n",
    "    def __init__(self , name, age):\n",
    "        self.name = name\n",
    "        self.age  = age\n",
    "    def show(self):\n",
    "        print(\"Car name is\" , self.name)\n",
    "        print(\"Car age is\", self.age)"
   ]
  },
  {
   "cell_type": "code",
   "execution_count": 123,
   "id": "62415ba8",
   "metadata": {},
   "outputs": [],
   "source": [
    "BMW = Cars(\"BMW\" , 3)"
   ]
  },
  {
   "cell_type": "code",
   "execution_count": 124,
   "id": "fda6e095",
   "metadata": {},
   "outputs": [
    {
     "name": "stdout",
     "output_type": "stream",
     "text": [
      "Car name is BMW\n",
      "Car age is 3\n"
     ]
    }
   ],
   "source": [
    "BMW.show()"
   ]
  },
  {
   "cell_type": "code",
   "execution_count": 136,
   "id": "689e00b4",
   "metadata": {},
   "outputs": [],
   "source": [
    "class BMW(Cars):\n",
    "    def __init__(self , name , age , model):\n",
    "        Cars.__init__(self, name , age)\n",
    "        self.model = model\n",
    "    def show_BMW(self):\n",
    "        print(\"Car name is\" , self.name)\n",
    "        print(\"Car age is\", self.age)\n",
    "        print(\"Car model is\", self.model)"
   ]
  },
  {
   "cell_type": "code",
   "execution_count": 137,
   "id": "f3130812",
   "metadata": {},
   "outputs": [],
   "source": [
    "BMW1 = BMW(\"bwm1\" , 5 , \"123\")"
   ]
  },
  {
   "cell_type": "code",
   "execution_count": 138,
   "id": "cf971896",
   "metadata": {},
   "outputs": [
    {
     "name": "stdout",
     "output_type": "stream",
     "text": [
      "Car name is bwm1\n",
      "Car age is 5\n"
     ]
    }
   ],
   "source": [
    "BMW1.show()"
   ]
  },
  {
   "cell_type": "code",
   "execution_count": 139,
   "id": "e7c44448",
   "metadata": {},
   "outputs": [
    {
     "data": {
      "text/plain": [
       "'123'"
      ]
     },
     "execution_count": 139,
     "metadata": {},
     "output_type": "execute_result"
    }
   ],
   "source": [
    "BMW1.model"
   ]
  },
  {
   "cell_type": "code",
   "execution_count": 140,
   "id": "ddf75348",
   "metadata": {},
   "outputs": [
    {
     "name": "stdout",
     "output_type": "stream",
     "text": [
      "Car name is bwm1\n",
      "Car age is 5\n",
      "Car model is 123\n"
     ]
    }
   ],
   "source": [
    "BMW1.show_BMW()"
   ]
  },
  {
   "cell_type": "code",
   "execution_count": 141,
   "id": "fa8ef988",
   "metadata": {},
   "outputs": [],
   "source": [
    "############################"
   ]
  },
  {
   "cell_type": "code",
   "execution_count": 186,
   "id": "910118be",
   "metadata": {},
   "outputs": [],
   "source": [
    "class Cars:\n",
    "#     class attribute\n",
    "    count = 0 \n",
    "    def __init__(self , name, age):\n",
    "#         instance attribute\n",
    "        self.name = name\n",
    "        self.age  = age\n",
    "        Cars.count += 1 \n",
    "#         instance method\n",
    "    def show(self):\n",
    "        print(\"Car name is\" , self.name)\n",
    "        print(\"Car age is\", self.age)\n",
    "    #class method\n",
    "    @classmethod\n",
    "    def n_cars(cls):\n",
    "        print(\"Number of cars is:\" , cls.count)\n",
    "    #static method\n",
    "    @staticmethod\n",
    "    def calc_time(distance , speed):\n",
    "        print(\"Time =\", round(distance/speed  , 2),\"h\")"
   ]
  },
  {
   "cell_type": "code",
   "execution_count": 187,
   "id": "ce4e434e",
   "metadata": {},
   "outputs": [],
   "source": [
    "c1 = Cars(\"BMW\" , 5)\n",
    "c2 = Cars(\"FIAT\" , 10)\n",
    "c3 = Cars(\"BMW1\" , 15)\n",
    "c4 = Cars(\"FIAT1\" , 20)"
   ]
  },
  {
   "cell_type": "code",
   "execution_count": 188,
   "id": "3d3e3d07",
   "metadata": {},
   "outputs": [
    {
     "data": {
      "text/plain": [
       "'BMW'"
      ]
     },
     "execution_count": 188,
     "metadata": {},
     "output_type": "execute_result"
    }
   ],
   "source": [
    "c1.name"
   ]
  },
  {
   "cell_type": "code",
   "execution_count": 189,
   "id": "758c4e91",
   "metadata": {},
   "outputs": [
    {
     "data": {
      "text/plain": [
       "'FIAT'"
      ]
     },
     "execution_count": 189,
     "metadata": {},
     "output_type": "execute_result"
    }
   ],
   "source": [
    "c2.name"
   ]
  },
  {
   "cell_type": "code",
   "execution_count": 190,
   "id": "d5b55c63",
   "metadata": {},
   "outputs": [
    {
     "name": "stdout",
     "output_type": "stream",
     "text": [
      "Number of cars is: 4\n"
     ]
    }
   ],
   "source": [
    "Cars.n_cars()"
   ]
  },
  {
   "cell_type": "code",
   "execution_count": 192,
   "id": "5903213f",
   "metadata": {},
   "outputs": [
    {
     "name": "stdout",
     "output_type": "stream",
     "text": [
      "Time = 10.0 h\n"
     ]
    }
   ],
   "source": [
    "c1.calc_time(1000 , 100)"
   ]
  },
  {
   "cell_type": "code",
   "execution_count": 193,
   "id": "9710722c",
   "metadata": {},
   "outputs": [],
   "source": [
    "# class ShoppingCart:\n",
    "# # instance attribute\n",
    "# self.items = []\n",
    "# # instance method\n",
    "# p1.add_item(\"item\" , price) Done! # after adding items =[ (\"item\" , value) , (\"item2\" , value2)]\n",
    "# p1.remove_item(\"item\") Done!  # items =[(\"item2\" , value2)]\n",
    "# p1.total_price() return sum of prices\n",
    "# p1.show() return items , values\n",
    "# #class method\n",
    "# p1.n_visitor()\n",
    "# # static method\n",
    "# p1.calc_price(20 , 40 , 50 )"
   ]
  },
  {
   "cell_type": "code",
   "execution_count": 309,
   "id": "3c267a47",
   "metadata": {},
   "outputs": [],
   "source": [
    "class ShoppingCart:\n",
    "    #class attribute\n",
    "    n_visitors = 0\n",
    "    def __init__(self):\n",
    "        #instance attribute\n",
    "        self.items = [ ]\n",
    "        ShoppingCart.n_visitors += 1\n",
    "    #instance method\n",
    "    def add_items(self , item , price):\n",
    "        self.items.append((item , price))\n",
    "        print(self.items)\n",
    "        print(\"Done!\")\n",
    "    #instance method\n",
    "    def remove_item(self, item):\n",
    "        for i in self.items:\n",
    "            if i[0] == item:\n",
    "                self.items.remove(i)\n",
    "                print(\"Done!\")\n",
    "                break\n",
    "    #instance method\n",
    "    def total_price(self):\n",
    "        s = 0 \n",
    "        for i in self.items:\n",
    "            s = s + i[1] \n",
    "        return f\"total price = {s}\"\n",
    "    #instance method\n",
    "    def show(self):\n",
    "        for i in self.items:\n",
    "            print(\"Item name:\",i[0] , \", price:\" , i[1])\n",
    "    #class method\n",
    "    @classmethod\n",
    "    def n_visitor(cls):\n",
    "        print(\"Number of visitors is:\" , cls.n_visitors)\n",
    "    #static method\n",
    "    @staticmethod\n",
    "    def calc_price(*n):\n",
    "        return f\"Total price is = {sum(n)}\""
   ]
  },
  {
   "cell_type": "code",
   "execution_count": 310,
   "id": "bc5e0352",
   "metadata": {},
   "outputs": [],
   "source": [
    "p1 = ShoppingCart()\n",
    "p2 = ShoppingCart()\n",
    "p3 = ShoppingCart()\n",
    "p4 = ShoppingCart()"
   ]
  },
  {
   "cell_type": "code",
   "execution_count": 301,
   "id": "0c34d7a6",
   "metadata": {},
   "outputs": [
    {
     "data": {
      "text/plain": [
       "[]"
      ]
     },
     "execution_count": 301,
     "metadata": {},
     "output_type": "execute_result"
    }
   ],
   "source": [
    "p1.items"
   ]
  },
  {
   "cell_type": "code",
   "execution_count": 302,
   "id": "18b6a2f9",
   "metadata": {},
   "outputs": [
    {
     "name": "stdout",
     "output_type": "stream",
     "text": [
      "[('orange', 50)]\n",
      "Done!\n",
      "[('orange', 50), ('apple', 70)]\n",
      "Done!\n",
      "[('orange', 50), ('apple', 70), ('k', 70)]\n",
      "Done!\n"
     ]
    }
   ],
   "source": [
    "p1.add_items(\"orange\" , 50)\n",
    "p1.add_items(\"apple\" , 70)\n",
    "p1.add_items(\"k\" , 70)"
   ]
  },
  {
   "cell_type": "code",
   "execution_count": 303,
   "id": "e56fc51d",
   "metadata": {},
   "outputs": [
    {
     "name": "stdout",
     "output_type": "stream",
     "text": [
      "Done!\n"
     ]
    }
   ],
   "source": [
    "p1.remove_item(\"k\")"
   ]
  },
  {
   "cell_type": "code",
   "execution_count": 304,
   "id": "113caf6e",
   "metadata": {},
   "outputs": [
    {
     "data": {
      "text/plain": [
       "[('orange', 50), ('apple', 70)]"
      ]
     },
     "execution_count": 304,
     "metadata": {},
     "output_type": "execute_result"
    }
   ],
   "source": [
    "p1.items"
   ]
  },
  {
   "cell_type": "code",
   "execution_count": 305,
   "id": "5371dc6a",
   "metadata": {},
   "outputs": [
    {
     "data": {
      "text/plain": [
       "'total price = 120'"
      ]
     },
     "execution_count": 305,
     "metadata": {},
     "output_type": "execute_result"
    }
   ],
   "source": [
    "p1.total_price()"
   ]
  },
  {
   "cell_type": "code",
   "execution_count": 306,
   "id": "9b7c8074",
   "metadata": {},
   "outputs": [
    {
     "name": "stdout",
     "output_type": "stream",
     "text": [
      "Item name: orange , price: 50\n",
      "Item name: apple , price: 70\n"
     ]
    }
   ],
   "source": [
    "p1.show()"
   ]
  },
  {
   "cell_type": "code",
   "execution_count": 307,
   "id": "69008071",
   "metadata": {},
   "outputs": [
    {
     "name": "stdout",
     "output_type": "stream",
     "text": [
      "Number of visitors is: 4\n"
     ]
    }
   ],
   "source": [
    "p1.n_visitor()"
   ]
  },
  {
   "cell_type": "code",
   "execution_count": 314,
   "id": "dc719a1f",
   "metadata": {},
   "outputs": [
    {
     "data": {
      "text/plain": [
       "'Total price is = 24'"
      ]
     },
     "execution_count": 314,
     "metadata": {},
     "output_type": "execute_result"
    }
   ],
   "source": [
    "p1.calc_price(12,12)"
   ]
  },
  {
   "cell_type": "code",
   "execution_count": 315,
   "id": "0ca4c56e",
   "metadata": {},
   "outputs": [],
   "source": [
    "# class BankSystem:\n",
    "# CIB = BankSystem(\"CIB\")\n",
    "users = [{\"username\" : \"ahmed\" , \"password\" : 123 , \"balance\" : 0  } ,... ]\n",
    "# 1 >> Create_New_Acc\n",
    "            username = input(\"username\")\n",
    "            password = input(\"password\")\n",
    "    \n",
    "#         CIB.create_account(\"username\" , \"password\")\n",
    "# 2 >> Login\n",
    "            username = input(\"username\")\n",
    "            password = input(\"password\")\n",
    "\n",
    "#         CIB.login(\"username\" , \"password\")\n",
    "#                 options 1 >> check your balance\n",
    "#                         2 >> deb...\n",
    "#                         3 >> withd...\n",
    "#                         4 >> Cancel\n",
    "                    \n",
    "# 3 >> Cancel  "
   ]
  },
  {
   "cell_type": "code",
   "execution_count": 316,
   "id": "2a166f04",
   "metadata": {},
   "outputs": [],
   "source": [
    "# while True:\n",
    "    "
   ]
  },
  {
   "cell_type": "code",
   "execution_count": 317,
   "id": "f880d773",
   "metadata": {},
   "outputs": [],
   "source": [
    "d = {\"k\":10}"
   ]
  },
  {
   "cell_type": "code",
   "execution_count": 318,
   "id": "7cfed070",
   "metadata": {},
   "outputs": [],
   "source": [
    "del d[\"k\"]"
   ]
  },
  {
   "cell_type": "code",
   "execution_count": 320,
   "id": "d0fca249",
   "metadata": {},
   "outputs": [
    {
     "data": {
      "text/plain": [
       "dict"
      ]
     },
     "execution_count": 320,
     "metadata": {},
     "output_type": "execute_result"
    }
   ],
   "source": [
    "type(d)"
   ]
  },
  {
   "cell_type": "code",
   "execution_count": 321,
   "id": "162d4f41",
   "metadata": {},
   "outputs": [],
   "source": [
    "d[\"item\"] = 10 "
   ]
  },
  {
   "cell_type": "code",
   "execution_count": 322,
   "id": "3a757f3b",
   "metadata": {},
   "outputs": [
    {
     "data": {
      "text/plain": [
       "{'item': 10}"
      ]
     },
     "execution_count": 322,
     "metadata": {},
     "output_type": "execute_result"
    }
   ],
   "source": [
    "d"
   ]
  },
  {
   "cell_type": "code",
   "execution_count": 323,
   "id": "1a3aca04",
   "metadata": {},
   "outputs": [],
   "source": [
    "d.update({\"item1\" : 10})"
   ]
  },
  {
   "cell_type": "code",
   "execution_count": 324,
   "id": "df3249b6",
   "metadata": {},
   "outputs": [
    {
     "data": {
      "text/plain": [
       "{'item': 10, 'item1': 10}"
      ]
     },
     "execution_count": 324,
     "metadata": {},
     "output_type": "execute_result"
    }
   ],
   "source": [
    "d"
   ]
  },
  {
   "cell_type": "code",
   "execution_count": null,
   "id": "7d7e5823",
   "metadata": {},
   "outputs": [],
   "source": []
  }
 ],
 "metadata": {
  "kernelspec": {
   "display_name": "Python 3 (ipykernel)",
   "language": "python",
   "name": "python3"
  },
  "language_info": {
   "codemirror_mode": {
    "name": "ipython",
    "version": 3
   },
   "file_extension": ".py",
   "mimetype": "text/x-python",
   "name": "python",
   "nbconvert_exporter": "python",
   "pygments_lexer": "ipython3",
   "version": "3.10.9"
  }
 },
 "nbformat": 4,
 "nbformat_minor": 5
}
